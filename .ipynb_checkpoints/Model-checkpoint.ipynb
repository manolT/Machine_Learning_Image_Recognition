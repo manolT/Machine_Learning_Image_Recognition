{
 "cells": [
  {
   "cell_type": "code",
   "execution_count": 1,
   "metadata": {},
   "outputs": [],
   "source": [
    "import numpy as np\n",
    "import matplotlib.pyplot as plt\n",
    "import skimage.feature\n",
    "from sklearn.svm import SVC\n",
    "import sklearn.metrics as metrics\n",
    "from sklearn.preprocessing import StandardScaler\n",
    "import tensorflow.keras as keras\n",
    "import tensorflow as tf\n",
    "from tensorflow.python.client import device_lib\n"
   ]
  },
  {
   "cell_type": "code",
   "execution_count": 2,
   "metadata": {},
   "outputs": [],
   "source": [
    "#loading data\n",
    "trainImages = np.load('trnImage.npy')\n",
    "trainLabels = np.load('trnLabel.npy')\n",
    "testImages = np.load('tstImage.npy')\n",
    "testLabels = np.load('tstLabel.npy')"
   ]
  },
  {
   "cell_type": "code",
   "execution_count": 3,
   "metadata": {},
   "outputs": [],
   "source": [
    "def computeFeatures(image):\n",
    "    # This function computes the HOG features with the parsed hyperparameters and returns the features as hog_feature. \n",
    "    # By setting visualize=True we obtain an image, hog_as_image, which can be plotted for insight into extracted HOG features.\n",
    "    hog_feature, hog_as_image = skimage.feature.hog(image, visualize=True, block_norm='L2-Hys')\n",
    "    return hog_feature, hog_as_image"
   ]
  },
  {
   "cell_type": "code",
   "execution_count": 4,
   "metadata": {
    "scrolled": true
   },
   "outputs": [],
   "source": [
    "#extracting features\n",
    "\n",
    "features,wild_boar = computeFeatures(trainImages[:,:,:,0])\n",
    "\n",
    "#extracting features from training set\n",
    "trainData = np.zeros((trainImages.shape[3], features.shape[0]))\n",
    "for i in range(trainImages.shape[3]):\n",
    "    trainData[i,:], hog_image = computeFeatures(trainImages[:,:,:,i])\n",
    "\n",
    "#extracting features from testing set\n",
    "testData = np.zeros((testImages.shape[3], features.shape[0]))\n",
    "for i in range(testImages.shape[3]):\n",
    "    testData[i,:], hog_image = computeFeatures(testImages[:,:,:,i])"
   ]
  },
  {
   "cell_type": "code",
   "execution_count": 5,
   "metadata": {},
   "outputs": [],
   "source": [
    "# Normalising the data based on the training set\n",
    "normaliser = StandardScaler().fit(trainData)\n",
    "trainData = normaliser.transform(trainData)\n",
    "testData = normaliser.transform(testData)"
   ]
  },
  {
   "cell_type": "code",
   "execution_count": 6,
   "metadata": {
    "scrolled": true
   },
   "outputs": [
    {
     "data": {
      "text/plain": [
       "SVC(C=4.5, break_ties=False, cache_size=200, class_weight=None, coef0=0.0,\n",
       "    decision_function_shape='ovr', degree=3, gamma='scale', kernel='rbf',\n",
       "    max_iter=-1, probability=False, random_state=None, shrinking=True,\n",
       "    tol=0.001, verbose=False)"
      ]
     },
     "execution_count": 6,
     "metadata": {},
     "output_type": "execute_result"
    }
   ],
   "source": [
    "#initializing svm\n",
    "C = 4.5 #lower C means higher variance\n",
    "model = SVC(kernel='rbf', C=C)\n",
    "\n",
    "#training model\n",
    "model.fit(trainData, trainLabels.ravel())\n"
   ]
  },
  {
   "cell_type": "code",
   "execution_count": 7,
   "metadata": {},
   "outputs": [],
   "source": [
    "#predicting the labels with the SVM\n",
    "predictedLabels = model.predict(testData)\n"
   ]
  },
  {
   "cell_type": "code",
   "execution_count": 8,
   "metadata": {},
   "outputs": [
    {
     "name": "stdout",
     "output_type": "stream",
     "text": [
      "Percentage accuracy on testing set is: 60.699999999999996 %\n",
      "Precision report:\n",
      "              precision    recall  f1-score   support\n",
      "\n",
      "           1       0.62      0.70      0.66       100\n",
      "           2       0.68      0.65      0.66       100\n",
      "           3       0.46      0.51      0.49       100\n",
      "           4       0.45      0.42      0.44       100\n",
      "           5       0.55      0.62      0.58       100\n",
      "           6       0.56      0.61      0.59       100\n",
      "           7       0.67      0.64      0.65       100\n",
      "           8       0.69      0.59      0.64       100\n",
      "           9       0.65      0.66      0.66       100\n",
      "          10       0.78      0.67      0.72       100\n",
      "\n",
      "    accuracy                           0.61      1000\n",
      "   macro avg       0.61      0.61      0.61      1000\n",
      "weighted avg       0.61      0.61      0.61      1000\n",
      "\n",
      "[[70  1  6  3  6  2  1  4  7  0]\n",
      " [ 4 65  0  1  4  1  3  2 12  8]\n",
      " [ 7  1 51  8  5 13  8  3  2  2]\n",
      " [ 4  3 15 42  8 13  7  5  1  2]\n",
      " [ 3  2 12 12 62  4  3  0  2  0]\n",
      " [ 2  0  7  7  7 61  6  7  2  1]\n",
      " [ 1  5 10  7  6  4 64  1  1  1]\n",
      " [ 2  1  4 11 11  8  2 59  0  2]\n",
      " [13 11  4  0  1  0  2  0 66  3]\n",
      " [ 6  7  1  2  3  2  0  4  8 67]]\n"
     ]
    }
   ],
   "source": [
    "\n",
    "accuracy = metrics.accuracy_score(testLabels, predictedLabels)*100\n",
    "print('Percentage accuracy on testing set is:', accuracy,'%')\n",
    "print(\"Precision report:\")\n",
    "print(metrics.classification_report(testLabels, predictedLabels))\n",
    "print(metrics.confusion_matrix(testLabels, predictedLabels))\n"
   ]
  },
  {
   "cell_type": "code",
   "execution_count": null,
   "metadata": {},
   "outputs": [],
   "source": []
  }
 ],
 "metadata": {
  "kernelspec": {
   "display_name": "Python 3",
   "language": "python",
   "name": "python3"
  },
  "language_info": {
   "codemirror_mode": {
    "name": "ipython",
    "version": 3
   },
   "file_extension": ".py",
   "mimetype": "text/x-python",
   "name": "python",
   "nbconvert_exporter": "python",
   "pygments_lexer": "ipython3",
   "version": "3.7.0"
  }
 },
 "nbformat": 4,
 "nbformat_minor": 4
}
